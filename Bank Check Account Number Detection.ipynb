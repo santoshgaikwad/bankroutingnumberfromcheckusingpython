{
 "cells": [
  {
   "cell_type": "code",
   "execution_count": 7,
   "metadata": {},
   "outputs": [
    {
     "data": {
      "text/plain": [
       "'C:\\\\Users\\\\santo'"
      ]
     },
     "execution_count": 7,
     "metadata": {},
     "output_type": "execute_result"
    }
   ],
   "source": [
    "pwd"
   ]
  },
  {
   "cell_type": "code",
   "execution_count": 27,
   "metadata": {},
   "outputs": [
    {
     "name": "stdout",
     "output_type": "stream",
     "text": [
      "MEMO\n",
      "AUTHORIZED SIGNA\n",
      "\n",
      "\"789123456\" 123769456123\" 0025\n"
     ]
    }
   ],
   "source": [
    "# Name: Santosh Gaikwad\n",
    "# Desc: Identify Bank Routing Number and Account Number from Check using WebCam \n",
    "\n",
    "#Import Libraries\n",
    "\n",
    "import numpy as np\n",
    "import cv2\n",
    "from PIL import Image\n",
    "import PIL.Image\n",
    "from pytesseract import image_to_string\n",
    "import pytesseract\n",
    "\n",
    "pytesseract.pytesseract.tesseract_cmd = 'C:/Program Files/Tesseract-OCR/tesseract'\n",
    "TESSDATA_PREFIX = 'C:/Program Files/Tesseract-OCR'\n",
    "\n",
    "#Start Video Capture using WebCam\n",
    "cap = cv2.VideoCapture(0)\n",
    "\n",
    "while(True):\n",
    "    # Capture frame-by-frame\n",
    "    ret, frame = cap.read()\n",
    "\n",
    "    # Display the resulting frame\n",
    "    cv2.imshow('frame',frame)\n",
    "\n",
    "    # as soon as a keyboard ke \"q\" is hit, process image and quit\n",
    "    if cv2.waitKey(20) & 0xFF == ord('q'):\n",
    "        output = pytesseract.image_to_string(frame, lang='eng')\n",
    "        print (output)\n",
    "\n",
    "        break\n",
    "\n",
    "# When everything done, release the capture\n",
    "cap.release()\n",
    "cv2.destroyAllWindows()"
   ]
  }
 ],
 "metadata": {
  "kernelspec": {
   "display_name": "Python 3",
   "language": "python",
   "name": "python3"
  },
  "language_info": {
   "codemirror_mode": {
    "name": "ipython",
    "version": 3
   },
   "file_extension": ".py",
   "mimetype": "text/x-python",
   "name": "python",
   "nbconvert_exporter": "python",
   "pygments_lexer": "ipython3",
   "version": "3.6.5"
  }
 },
 "nbformat": 4,
 "nbformat_minor": 2
}
